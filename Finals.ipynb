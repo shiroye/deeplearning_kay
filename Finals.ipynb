{
 "cells": [
  {
   "cell_type": "code",
   "execution_count": 1,
   "id": "0a82920d-8a0c-457d-9f75-9c5cf2e8738f",
   "metadata": {},
   "outputs": [],
   "source": [
    "import numpy as np\n",
    "import tensorflow as tf\n",
    "import tensorflow.keras as keras\n",
    "import matplotlib.pyplot as plt\n",
    "import pandas as pd\n",
    "from sklearn import preprocessing\n",
    "from sklearn.preprocessing import scale, StandardScaler\n",
    "from sklearn.model_selection import train_test_split\n",
    "from sklearn.feature_extraction import DictVectorizer\n",
    "from keras.models import load_model\n"
   ]
  },
  {
   "cell_type": "code",
   "execution_count": 2,
   "id": "fac61f1a-e048-4e3f-a51e-4d70f5142cf7",
   "metadata": {},
   "outputs": [
    {
     "name": "stderr",
     "output_type": "stream",
     "text": [
      "2021-12-09 18:02:06.368190: W tensorflow/stream_executor/platform/default/dso_loader.cc:64] Could not load dynamic library 'libcuda.so.1'; dlerror: libcuda.so.1: cannot open shared object file: No such file or directory\n",
      "2021-12-09 18:02:06.368269: W tensorflow/stream_executor/cuda/cuda_driver.cc:269] failed call to cuInit: UNKNOWN ERROR (303)\n",
      "2021-12-09 18:02:06.368330: I tensorflow/stream_executor/cuda/cuda_diagnostics.cc:156] kernel driver does not appear to be running on this host (jupyter-oos2b): /proc/driver/nvidia/version does not exist\n",
      "2021-12-09 18:02:06.368884: I tensorflow/core/platform/cpu_feature_guard.cc:142] This TensorFlow binary is optimized with oneAPI Deep Neural Network Library (oneDNN) to use the following CPU instructions in performance-critical operations:  FMA\n",
      "To enable them in other operations, rebuild TensorFlow with the appropriate compiler flags.\n"
     ]
    }
   ],
   "source": [
    "loaded_model = keras.models.load_model(\"uar_residual\")"
   ]
  },
  {
   "cell_type": "code",
   "execution_count": 3,
   "id": "c2892645-0bfa-46f3-89d4-44d6415c641c",
   "metadata": {},
   "outputs": [
    {
     "name": "stdout",
     "output_type": "stream",
     "text": [
      "Model: \"model\"\n",
      "__________________________________________________________________________________________________\n",
      "Layer (type)                    Output Shape         Param #     Connected to                     \n",
      "==================================================================================================\n",
      "input_1 (InputLayer)            [(None, 5)]          0                                            \n",
      "__________________________________________________________________________________________________\n",
      "dense (Dense)                   (None, 128)          768         input_1[0][0]                    \n",
      "__________________________________________________________________________________________________\n",
      "dense_1 (Dense)                 (None, 128)          16512       dense[0][0]                      \n",
      "__________________________________________________________________________________________________\n",
      "dense_2 (Dense)                 (None, 128)          16512       dense_1[0][0]                    \n",
      "__________________________________________________________________________________________________\n",
      "add (Add)                       (None, 128)          0           dense[0][0]                      \n",
      "                                                                 dense_2[0][0]                    \n",
      "__________________________________________________________________________________________________\n",
      "dense_3 (Dense)                 (None, 128)          16512       add[0][0]                        \n",
      "__________________________________________________________________________________________________\n",
      "dense_4 (Dense)                 (None, 128)          16512       dense_3[0][0]                    \n",
      "__________________________________________________________________________________________________\n",
      "add_1 (Add)                     (None, 128)          0           add[0][0]                        \n",
      "                                                                 dense_4[0][0]                    \n",
      "__________________________________________________________________________________________________\n",
      "dense_5 (Dense)                 (None, 128)          16512       add_1[0][0]                      \n",
      "__________________________________________________________________________________________________\n",
      "dense_6 (Dense)                 (None, 128)          16512       dense_5[0][0]                    \n",
      "__________________________________________________________________________________________________\n",
      "add_2 (Add)                     (None, 128)          0           add_1[0][0]                      \n",
      "                                                                 dense_6[0][0]                    \n",
      "__________________________________________________________________________________________________\n",
      "dense_7 (Dense)                 (None, 128)          16512       add_2[0][0]                      \n",
      "__________________________________________________________________________________________________\n",
      "dense_8 (Dense)                 (None, 128)          16512       dense_7[0][0]                    \n",
      "__________________________________________________________________________________________________\n",
      "add_3 (Add)                     (None, 128)          0           add_2[0][0]                      \n",
      "                                                                 dense_8[0][0]                    \n",
      "__________________________________________________________________________________________________\n",
      "dense_9 (Dense)                 (None, 128)          16512       add_3[0][0]                      \n",
      "__________________________________________________________________________________________________\n",
      "dense_10 (Dense)                (None, 128)          16512       dense_9[0][0]                    \n",
      "__________________________________________________________________________________________________\n",
      "add_4 (Add)                     (None, 128)          0           add_3[0][0]                      \n",
      "                                                                 dense_10[0][0]                   \n",
      "__________________________________________________________________________________________________\n",
      "dense_11 (Dense)                (None, 128)          16512       add_4[0][0]                      \n",
      "__________________________________________________________________________________________________\n",
      "dense_12 (Dense)                (None, 128)          16512       dense_11[0][0]                   \n",
      "__________________________________________________________________________________________________\n",
      "add_5 (Add)                     (None, 128)          0           add_4[0][0]                      \n",
      "                                                                 dense_12[0][0]                   \n",
      "__________________________________________________________________________________________________\n",
      "dense_13 (Dense)                (None, 128)          16512       add_5[0][0]                      \n",
      "__________________________________________________________________________________________________\n",
      "dense_14 (Dense)                (None, 128)          16512       dense_13[0][0]                   \n",
      "__________________________________________________________________________________________________\n",
      "add_6 (Add)                     (None, 128)          0           add_5[0][0]                      \n",
      "                                                                 dense_14[0][0]                   \n",
      "__________________________________________________________________________________________________\n",
      "dense_15 (Dense)                (None, 128)          16512       add_6[0][0]                      \n",
      "__________________________________________________________________________________________________\n",
      "dense_16 (Dense)                (None, 128)          16512       dense_15[0][0]                   \n",
      "__________________________________________________________________________________________________\n",
      "add_7 (Add)                     (None, 128)          0           add_6[0][0]                      \n",
      "                                                                 dense_16[0][0]                   \n",
      "__________________________________________________________________________________________________\n",
      "dense_17 (Dense)                (None, 128)          16512       add_7[0][0]                      \n",
      "__________________________________________________________________________________________________\n",
      "dense_18 (Dense)                (None, 128)          16512       dense_17[0][0]                   \n",
      "__________________________________________________________________________________________________\n",
      "add_8 (Add)                     (None, 128)          0           add_7[0][0]                      \n",
      "                                                                 dense_18[0][0]                   \n",
      "__________________________________________________________________________________________________\n",
      "dense_19 (Dense)                (None, 128)          16512       add_8[0][0]                      \n",
      "__________________________________________________________________________________________________\n",
      "dense_20 (Dense)                (None, 128)          16512       dense_19[0][0]                   \n",
      "__________________________________________________________________________________________________\n",
      "add_9 (Add)                     (None, 128)          0           add_8[0][0]                      \n",
      "                                                                 dense_20[0][0]                   \n",
      "__________________________________________________________________________________________________\n",
      "dense_21 (Dense)                (None, 249)          32121       add_9[0][0]                      \n",
      "==================================================================================================\n",
      "Total params: 363,129\n",
      "Trainable params: 363,129\n",
      "Non-trainable params: 0\n",
      "__________________________________________________________________________________________________\n"
     ]
    }
   ],
   "source": [
    "loaded_model.summary()"
   ]
  },
  {
   "cell_type": "code",
   "execution_count": 4,
   "id": "cb796886-7cf8-4470-b5d9-8c86cd72dba0",
   "metadata": {},
   "outputs": [],
   "source": [
    "data = []\n",
    "#with urllib.request.urlopen(url) as raw_data:\n",
    "with open(\"mydata.txt\") as raw_data:\n",
    "     for line in raw_data:\n",
    "         data.append(line.split()[0:6])\n",
    "     data = np.array(data)"
   ]
  },
  {
   "cell_type": "code",
   "execution_count": 5,
   "id": "52c5525a-398e-4be3-abed-ced7afdf04b2",
   "metadata": {},
   "outputs": [],
   "source": [
    "Xx = np.array(data[:,:-1])"
   ]
  },
  {
   "cell_type": "code",
   "execution_count": 6,
   "id": "f85e23fc-c7c0-4426-89e9-ba553e70d56c",
   "metadata": {},
   "outputs": [],
   "source": [
    "df = pd.DataFrame(Xx)\n",
    "df[[\"Fn\",\"Ln\",\"Tn\",\"Ftn\",\"Pn\"]] = df[[0,1,2,3,4]].astype('category')\n",
    "df['codeFn'] = df['Fn'].cat.codes\n",
    "df['codeLn'] = df['Ln'].cat.codes\n",
    "df['codeTn'] = df['Tn'].cat.codes\n",
    "df['codeFtn'] = df['Ftn'].cat.codes\n",
    "df['codePn'] = df['Pn'].cat.codes\n",
    "X = df[[\"codeFn\",\"codeLn\",\"codeTn\",\"codeFtn\",\"codePn\"]]\n",
    "X = np.array(X)"
   ]
  },
  {
   "cell_type": "code",
   "execution_count": 7,
   "id": "70c756c1-c664-41ee-b0ea-7ae40f06c7fe",
   "metadata": {},
   "outputs": [],
   "source": [
    "scaler = StandardScaler().fit(X)\n",
    "X = scaler.transform(X)"
   ]
  },
  {
   "cell_type": "code",
   "execution_count": 8,
   "id": "0ef8db6f-54e2-4f1c-90b4-e9e667428a5f",
   "metadata": {},
   "outputs": [
    {
     "name": "stderr",
     "output_type": "stream",
     "text": [
      "/opt/conda/lib/python3.9/site-packages/sklearn/preprocessing/_label.py:115: DataConversionWarning: A column-vector y was passed when a 1d array was expected. Please change the shape of y to (n_samples, ), for example using ravel().\n",
      "  y = column_or_1d(y, warn=True)\n"
     ]
    }
   ],
   "source": [
    "Yy = np.array(data[:,-1:])\n",
    "le = preprocessing.LabelEncoder()\n",
    "Y = le.fit_transform(Yy)\n",
    "nm = len(np.unique(Y))\n",
    "Y = keras.utils.to_categorical(Y,nm)\n"
   ]
  },
  {
   "cell_type": "code",
   "execution_count": 9,
   "id": "529f3823-98f0-44fe-9b07-32f0a49e87f6",
   "metadata": {},
   "outputs": [],
   "source": [
    "X, X_test, Y, y_test = train_test_split(X, Y, test_size=0.1)"
   ]
  },
  {
   "cell_type": "code",
   "execution_count": 13,
   "id": "023f2f8a-1594-452b-8e9c-b5a601c6946b",
   "metadata": {},
   "outputs": [
    {
     "name": "stderr",
     "output_type": "stream",
     "text": [
      "2021-12-09 18:12:45.454004: I tensorflow/compiler/mlir/mlir_graph_optimization_pass.cc:185] None of the MLIR Optimization Passes are enabled (registered 2)\n"
     ]
    },
    {
     "name": "stdout",
     "output_type": "stream",
     "text": [
      "['BBOGGS']\n",
      "['PKUJALAKUMARI']\n",
      "['PBENDIGIRI']\n",
      "['MCROSBY']\n",
      "['AGONDELA']\n",
      "['ATRAMONTE']\n",
      "['VJAMMULA']\n",
      "['NHASSIN']\n",
      "['RALGRA']\n",
      "['NTAMMINA']\n",
      "['SYENDAMURI']\n",
      "['JWASHINGTON']\n",
      "['JJOHNSTON']\n",
      "['VBARRETT']\n",
      "['MNALUMOLU']\n",
      "['RPOZEN']\n",
      "['NDUMPETI']\n",
      "['AJAVIA']\n",
      "['ADHUMAL']\n",
      "['TALBRITTON']\n",
      "['SCHILUKAMARI']\n",
      "['SYENDAMURI']\n",
      "['KBOWEN']\n",
      "['SCHILUKAMARI']\n",
      "['KPIERSON']\n",
      "['SDOOSA']\n",
      "['EPISCITELLI']\n",
      "['KMCKEEVER']\n",
      "['SMEYERHOFF']\n",
      "['WGOTTLIEB']\n",
      "['TBATTISTESSA']\n",
      "['TSTICKEL']\n",
      "['BBHOSALE']\n",
      "['SKHANDEWALE']\n",
      "['SSHAFIUDDIN']\n",
      "['RKURNA']\n",
      "['SDESHMUKH']\n",
      "['PSCHUSTER']\n",
      "['AVARIER']\n",
      "['SPHILLIPS']\n",
      "['LSTEELE']\n",
      "['ACAREY']\n",
      "['Caldwell']\n"
     ]
    }
   ],
   "source": [
    "pred = loaded_model.predict(X_test, verbose=0)\n",
    "y_pred = []\n",
    "for i in range(len(pred)):\n",
    "    predictn = np.argmax(pred[i])\n",
    "    y_pred.append(predictn)\n",
    "    print(le.inverse_transform([predictn]))"
   ]
  },
  {
   "cell_type": "code",
   "execution_count": 14,
   "id": "35d8c67c-b0d0-4e7f-9b79-03f4692200c9",
   "metadata": {},
   "outputs": [
    {
     "name": "stdout",
     "output_type": "stream",
     "text": [
      "['BBEDFORD']\n",
      "['PKUJALAKUMARI']\n",
      "['PBENDIGIRI']\n",
      "['MCROSBY']\n",
      "['AGALANDE']\n",
      "['ATRAMONTE']\n",
      "['VJAMMULA']\n",
      "['NKAUNDS']\n",
      "['RALGRA']\n",
      "['NTAMMINA']\n",
      "['SYENDAMURI']\n",
      "['RVUYYURU']\n",
      "['JJOHNSTON']\n",
      "['VBARRETT']\n",
      "['LPALLA']\n",
      "['RPOZEN']\n",
      "['MGHATOLE']\n",
      "['AJAVIA']\n",
      "['ADHUMAL']\n",
      "['TALBRITTON']\n",
      "['VCHEBROLU']\n",
      "['SYENDAMURI']\n",
      "['KBOWEN']\n",
      "['SCHILUKAMARI']\n",
      "['KPIERSON']\n",
      "['RDURGGI']\n",
      "['EPISCITELLI']\n",
      "['KMCKEEVER']\n",
      "['SMEYERHOFF']\n",
      "['WGOTTLIEB']\n",
      "['TBATTISTESSA']\n",
      "['TSTICKEL']\n",
      "['BBHOSALE']\n",
      "['SKHANDEWALE']\n",
      "['SSHAFIUDDIN']\n",
      "['RKURNA']\n",
      "['SDESHMUKH']\n",
      "['PSCHUSTER']\n",
      "['AVARIER']\n",
      "['SHPHILLIPS']\n",
      "['LSTEELE']\n",
      "['ACAREY']\n",
      "['Caldwell']\n"
     ]
    }
   ],
   "source": [
    "yt_pred = []\n",
    "for i in range(len(y_test)):\n",
    "    predictn = np.argmax(y_test[i])\n",
    "    yt_pred.append(predictn)\n",
    "    print(le.inverse_transform([predictn]))"
   ]
  },
  {
   "cell_type": "code",
   "execution_count": null,
   "id": "a5887a49-8946-4f65-bb34-d39039efe4d5",
   "metadata": {},
   "outputs": [],
   "source": []
  }
 ],
 "metadata": {
  "kernelspec": {
   "display_name": "Python 3 (ipykernel)",
   "language": "python",
   "name": "python3"
  },
  "language_info": {
   "codemirror_mode": {
    "name": "ipython",
    "version": 3
   },
   "file_extension": ".py",
   "mimetype": "text/x-python",
   "name": "python",
   "nbconvert_exporter": "python",
   "pygments_lexer": "ipython3",
   "version": "3.9.7"
  }
 },
 "nbformat": 4,
 "nbformat_minor": 5
}
